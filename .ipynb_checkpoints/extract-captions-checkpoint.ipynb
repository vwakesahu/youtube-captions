{
 "cells": [
  {
   "cell_type": "code",
   "execution_count": 1,
   "id": "2bde8477",
   "metadata": {
    "scrolled": true
   },
   "outputs": [
    {
     "name": "stdout",
     "output_type": "stream",
     "text": [
      "Requirement already satisfied: youtube_transcript_api in c:\\users\\vivek\\anaconda3\\lib\\site-packages (0.6.2)Note: you may need to restart the kernel to use updated packages.\n",
      "\n",
      "Requirement already satisfied: requests in c:\\users\\vivek\\anaconda3\\lib\\site-packages (from youtube_transcript_api) (2.31.0)\n",
      "Requirement already satisfied: charset-normalizer<4,>=2 in c:\\users\\vivek\\anaconda3\\lib\\site-packages (from requests->youtube_transcript_api) (2.0.4)\n",
      "Requirement already satisfied: idna<4,>=2.5 in c:\\users\\vivek\\anaconda3\\lib\\site-packages (from requests->youtube_transcript_api) (3.4)\n",
      "Requirement already satisfied: urllib3<3,>=1.21.1 in c:\\users\\vivek\\anaconda3\\lib\\site-packages (from requests->youtube_transcript_api) (1.26.16)\n",
      "Requirement already satisfied: certifi>=2017.4.17 in c:\\users\\vivek\\anaconda3\\lib\\site-packages (from requests->youtube_transcript_api) (2023.7.22)\n"
     ]
    }
   ],
   "source": [
    "pip install youtube_transcript_api"
   ]
  },
  {
   "cell_type": "code",
   "execution_count": 16,
   "id": "2a5be523",
   "metadata": {},
   "outputs": [],
   "source": [
    "from youtube_transcript_api import YouTubeTranscriptApi\n",
    "import os\n",
    "\n",
    "#youtude videoid: \n",
    "#if uri: https://www.youtube.com/watch?v=31k6AtW-b3Y then videoid: 31k6AtW-b3Y\n",
    "video_id = \"31k6AtW-b3Y\"\n",
    "\n",
    "#language\n",
    "language_code = \"hi\"\n",
    "\n",
    "try:\n",
    "    srt = YouTubeTranscriptApi.get_transcript(video_id, languages=[language_code])\n",
    "    \n",
    "    text = \"\"\n",
    "    with open(f\"unique_transcript_{language_code}.txt\", \"w\", encoding='utf-8') as file:\n",
    "        for i in srt:\n",
    "            text += i[\"text\"] + \"...\"\n",
    "        file.write(text)\n",
    "\n",
    "    os.startfile(f\"unique_transcript_{language_code}.txt\")\n",
    "    \n",
    "except Exception as e:\n",
    "    print(f\"Error: {e}\")\n"
   ]
  }
 ],
 "metadata": {
  "kernelspec": {
   "display_name": "Python 3 (ipykernel)",
   "language": "python",
   "name": "python3"
  },
  "language_info": {
   "codemirror_mode": {
    "name": "ipython",
    "version": 3
   },
   "file_extension": ".py",
   "mimetype": "text/x-python",
   "name": "python",
   "nbconvert_exporter": "python",
   "pygments_lexer": "ipython3",
   "version": "3.11.5"
  }
 },
 "nbformat": 4,
 "nbformat_minor": 5
}
